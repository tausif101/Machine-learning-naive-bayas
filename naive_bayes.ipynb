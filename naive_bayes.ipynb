{
 "cells": [
  {
   "cell_type": "code",
   "execution_count": 1,
   "metadata": {
    "pycharm": {
     "name": "#%%\n"
    },
    "scrolled": true
   },
   "outputs": [
    {
     "data": {
      "text/html": [
       "<div>\n",
       "<style scoped>\n",
       "    .dataframe tbody tr th:only-of-type {\n",
       "        vertical-align: middle;\n",
       "    }\n",
       "\n",
       "    .dataframe tbody tr th {\n",
       "        vertical-align: top;\n",
       "    }\n",
       "\n",
       "    .dataframe thead th {\n",
       "        text-align: right;\n",
       "    }\n",
       "</style>\n",
       "<table border=\"1\" class=\"dataframe\">\n",
       "  <thead>\n",
       "    <tr style=\"text-align: right;\">\n",
       "      <th></th>\n",
       "      <th>Serial No</th>\n",
       "      <th>Gender</th>\n",
       "      <th>Temperature</th>\n",
       "      <th>Cough</th>\n",
       "      <th>Tiredness</th>\n",
       "      <th>Difficulty_breathing</th>\n",
       "      <th>Loss_of_taste_or_smell</th>\n",
       "      <th>Sore_throat</th>\n",
       "      <th>Covid-19</th>\n",
       "    </tr>\n",
       "  </thead>\n",
       "  <tbody>\n",
       "    <tr>\n",
       "      <th>0</th>\n",
       "      <td>10001</td>\n",
       "      <td>female</td>\n",
       "      <td>104.0</td>\n",
       "      <td>dry</td>\n",
       "      <td>severe</td>\n",
       "      <td>yes</td>\n",
       "      <td>yes</td>\n",
       "      <td>yes</td>\n",
       "      <td>positive</td>\n",
       "    </tr>\n",
       "    <tr>\n",
       "      <th>1</th>\n",
       "      <td>10002</td>\n",
       "      <td>female</td>\n",
       "      <td>100.0</td>\n",
       "      <td>dry</td>\n",
       "      <td>severe</td>\n",
       "      <td>no</td>\n",
       "      <td>no</td>\n",
       "      <td>no</td>\n",
       "      <td>negative</td>\n",
       "    </tr>\n",
       "    <tr>\n",
       "      <th>2</th>\n",
       "      <td>10003</td>\n",
       "      <td>female</td>\n",
       "      <td>98.0</td>\n",
       "      <td>wet</td>\n",
       "      <td>severe</td>\n",
       "      <td>no</td>\n",
       "      <td>no</td>\n",
       "      <td>no</td>\n",
       "      <td>negative</td>\n",
       "    </tr>\n",
       "    <tr>\n",
       "      <th>3</th>\n",
       "      <td>10004</td>\n",
       "      <td>female</td>\n",
       "      <td>105.0</td>\n",
       "      <td>wet</td>\n",
       "      <td>slight</td>\n",
       "      <td>yes</td>\n",
       "      <td>yes</td>\n",
       "      <td>no</td>\n",
       "      <td>negative</td>\n",
       "    </tr>\n",
       "    <tr>\n",
       "      <th>4</th>\n",
       "      <td>10005</td>\n",
       "      <td>female</td>\n",
       "      <td>101.0</td>\n",
       "      <td>dry</td>\n",
       "      <td>slight</td>\n",
       "      <td>no</td>\n",
       "      <td>yes</td>\n",
       "      <td>yes</td>\n",
       "      <td>positive</td>\n",
       "    </tr>\n",
       "    <tr>\n",
       "      <th>...</th>\n",
       "      <td>...</td>\n",
       "      <td>...</td>\n",
       "      <td>...</td>\n",
       "      <td>...</td>\n",
       "      <td>...</td>\n",
       "      <td>...</td>\n",
       "      <td>...</td>\n",
       "      <td>...</td>\n",
       "      <td>...</td>\n",
       "    </tr>\n",
       "    <tr>\n",
       "      <th>995</th>\n",
       "      <td>10996</td>\n",
       "      <td>female</td>\n",
       "      <td>95.0</td>\n",
       "      <td>dry</td>\n",
       "      <td>severe</td>\n",
       "      <td>yes</td>\n",
       "      <td>yes</td>\n",
       "      <td>no</td>\n",
       "      <td>negative</td>\n",
       "    </tr>\n",
       "    <tr>\n",
       "      <th>996</th>\n",
       "      <td>10997</td>\n",
       "      <td>male</td>\n",
       "      <td>101.5</td>\n",
       "      <td>wet</td>\n",
       "      <td>slight</td>\n",
       "      <td>yes</td>\n",
       "      <td>yes</td>\n",
       "      <td>no</td>\n",
       "      <td>positive</td>\n",
       "    </tr>\n",
       "    <tr>\n",
       "      <th>997</th>\n",
       "      <td>10998</td>\n",
       "      <td>female</td>\n",
       "      <td>98.0</td>\n",
       "      <td>wet</td>\n",
       "      <td>no</td>\n",
       "      <td>no</td>\n",
       "      <td>no</td>\n",
       "      <td>no</td>\n",
       "      <td>negative</td>\n",
       "    </tr>\n",
       "    <tr>\n",
       "      <th>998</th>\n",
       "      <td>10999</td>\n",
       "      <td>female</td>\n",
       "      <td>103.0</td>\n",
       "      <td>no</td>\n",
       "      <td>slight</td>\n",
       "      <td>no</td>\n",
       "      <td>yes</td>\n",
       "      <td>no</td>\n",
       "      <td>negative</td>\n",
       "    </tr>\n",
       "    <tr>\n",
       "      <th>999</th>\n",
       "      <td>11000</td>\n",
       "      <td>male</td>\n",
       "      <td>98.0</td>\n",
       "      <td>no</td>\n",
       "      <td>no</td>\n",
       "      <td>yes</td>\n",
       "      <td>no</td>\n",
       "      <td>no</td>\n",
       "      <td>negative</td>\n",
       "    </tr>\n",
       "  </tbody>\n",
       "</table>\n",
       "<p>1000 rows × 9 columns</p>\n",
       "</div>"
      ],
      "text/plain": [
       "     Serial No  Gender  Temperature Cough Tiredness Difficulty_breathing  \\\n",
       "0        10001  female        104.0   dry    severe                  yes   \n",
       "1        10002  female        100.0   dry    severe                   no   \n",
       "2        10003  female         98.0   wet    severe                   no   \n",
       "3        10004  female        105.0   wet    slight                  yes   \n",
       "4        10005  female        101.0   dry    slight                   no   \n",
       "..         ...     ...          ...   ...       ...                  ...   \n",
       "995      10996  female         95.0   dry    severe                  yes   \n",
       "996      10997    male        101.5   wet    slight                  yes   \n",
       "997      10998  female         98.0   wet        no                   no   \n",
       "998      10999  female        103.0    no    slight                   no   \n",
       "999      11000    male         98.0    no        no                  yes   \n",
       "\n",
       "    Loss_of_taste_or_smell Sore_throat  Covid-19  \n",
       "0                      yes         yes  positive  \n",
       "1                       no          no  negative  \n",
       "2                       no          no  negative  \n",
       "3                      yes          no  negative  \n",
       "4                      yes         yes  positive  \n",
       "..                     ...         ...       ...  \n",
       "995                    yes          no  negative  \n",
       "996                    yes          no  positive  \n",
       "997                     no          no  negative  \n",
       "998                    yes          no  negative  \n",
       "999                     no          no  negative  \n",
       "\n",
       "[1000 rows x 9 columns]"
      ]
     },
     "execution_count": 1,
     "metadata": {},
     "output_type": "execute_result"
    }
   ],
   "source": [
    "import pandas as pd\n",
    "\n",
    "data = pd.read_csv('datatest.csv')\n",
    "\n",
    "data"
   ]
  },
  {
   "cell_type": "code",
   "execution_count": 2,
   "metadata": {
    "pycharm": {
     "name": "#%%\n"
    },
    "scrolled": true
   },
   "outputs": [
    {
     "name": "stdout",
     "output_type": "stream",
     "text": [
      "Total value of Deciding Factor:  1000\n",
      "Value of Positive: 431\n",
      "Value of Negative: 569\n",
      "Probability Of Positive:  0.431\n",
      "Probability Of Negative:  0.569\n"
     ]
    }
   ],
   "source": [
    "#############Find the unique attrbute value and Total value of deciding factor#################\n",
    "\n",
    "CountPositive,CountNegative = 0,0\n",
    "\n",
    "for i in data['Covid-19'].astype(str):\n",
    "    if i=='positive':\n",
    "        CountPositive += 1\n",
    "    elif i=='negative':\n",
    "        CountNegative += 1\n",
    "\n",
    "ValueOfPositive = CountPositive\n",
    "ValueOfNegative = CountNegative\n",
    "\n",
    "TotalValueOfDecidingFactor = ValueOfPositive + ValueOfNegative\n",
    " \n",
    "ProbabilityOfPositive = ValueOfPositive/TotalValueOfDecidingFactor\n",
    "ProbabilityOfNegative = ValueOfNegative/TotalValueOfDecidingFactor\n",
    "\n",
    "\n",
    "print('Total value of Deciding Factor: ',TotalValueOfDecidingFactor)\n",
    "print('Value of Positive:',ValueOfPositive)\n",
    "print('Value of Negative:',ValueOfNegative)\n",
    "\n",
    "print('Probability Of Positive: ' ,ProbabilityOfPositive)\n",
    "\n",
    "print('Probability Of Negative: ',ProbabilityOfNegative)"
   ]
  },
  {
   "cell_type": "code",
   "execution_count": 3,
   "metadata": {},
   "outputs": [
    {
     "name": "stdout",
     "output_type": "stream",
     "text": [
      "Dry Cough Positive:  187 \t Probability of Dry Cough Positive:  0.43387470997679817\n",
      "Dry Cough Negative:  213 \t Probability of Dry Cough Negative:  0.37434094903339193\n",
      "Wet Cough Positive:  72 \t Probability of Wet Cough Positive:  0.16705336426914152\n",
      "Wet Cough Negative:  130 \t Probability of Wet Cough Negative:  0.22847100175746923\n",
      "No Cough Positive:  169 \t Probability of No Cough Positive:  0.39211136890951276\n",
      "No Cough Negative:  221 \t Probability of No Cough Negative:  0.3884007029876977\n"
     ]
    }
   ],
   "source": [
    "####Cough#####\n",
    "dryCoughPositive,dryCoughNegative,wetCoughPositive,wetCoughNegative, noCoughPositive,noCoughNegative=0,0,0,0,0,0\n",
    "\n",
    "    \n",
    "for x in data.index:\n",
    "    if data['Cough'][x] =='dry'and data['Covid-19'][x] =='positive':\n",
    "        dryCoughPositive += 1\n",
    "        \n",
    "    elif data['Cough'][x] =='dry'and data['Covid-19'][x] =='negative':\n",
    "        dryCoughNegative += 1\n",
    "        \n",
    "    elif data['Cough'][x] =='wet'and data['Covid-19'][x] =='positive':\n",
    "        wetCoughPositive += 1\n",
    "        \n",
    "    elif data['Cough'][x] =='wet'and data['Covid-19'][x] =='negative':\n",
    "        wetCoughNegative += 1\n",
    "        \n",
    "    elif data['Cough'][x] =='no'and data['Covid-19'][x] =='positive':\n",
    "        noCoughPositive += 1\n",
    "        \n",
    "    elif data['Cough'][x] =='no'and data['Covid-19'][x] =='negative':\n",
    "        noCoughNegative += 1\n",
    "        \n",
    "ProbabilityOfdryCoughPositive = dryCoughPositive/ValueOfPositive\n",
    "print('Dry Cough Positive: ',dryCoughPositive,'\\t','Probability of Dry Cough Positive: ',ProbabilityOfdryCoughPositive)\n",
    "\n",
    "ProbabilityOfdryCoughNegative = dryCoughNegative/ValueOfNegative\n",
    "print('Dry Cough Negative: ',dryCoughNegative,'\\t','Probability of Dry Cough Negative: ',ProbabilityOfdryCoughNegative)\n",
    "\n",
    "ProbabilityOfwetCoughPositive = wetCoughPositive/ValueOfPositive\n",
    "print('Wet Cough Positive: ',wetCoughPositive,'\\t','Probability of Wet Cough Positive: ',ProbabilityOfwetCoughPositive)\n",
    "\n",
    "ProbabilityOfwetCoughNegative = wetCoughNegative/ValueOfNegative\n",
    "print('Wet Cough Negative: ',wetCoughNegative,'\\t','Probability of Wet Cough Negative: ',ProbabilityOfwetCoughNegative)\n",
    "\n",
    "ProbabilityOfNoCoughPositive = noCoughPositive/ValueOfPositive\n",
    "print('No Cough Positive: ',noCoughPositive,'\\t','Probability of No Cough Positive: ',ProbabilityOfNoCoughPositive)\n",
    "\n",
    "ProbabilityOfNoCoughNegative = noCoughNegative/ValueOfNegative\n",
    "print('No Cough Negative: ',noCoughNegative,'\\t','Probability of No Cough Negative: ',ProbabilityOfNoCoughNegative)"
   ]
  },
  {
   "cell_type": "code",
   "execution_count": 4,
   "metadata": {},
   "outputs": [
    {
     "name": "stdout",
     "output_type": "stream",
     "text": [
      "Severe Tiredness Positive:  171 \t Probability of Severe Tiredness Positive:  0.39675174013921116\n",
      "Severe Tiredness Negative:  181 \t Probability of Severe Tiredness Negative:  0.3181019332161687\n",
      "Slight Tiredness Positive:  181 \t Probability of Slight Tiredness Positive:  0.419953596287703\n",
      "Slight Tiredness Negative:  253 \t Probability of Slight Tiredness Negative:  0.4446397188049209\n",
      "No Tiredness Positive:  79 \t Probability of No Tiredness Positive:  0.18329466357308585\n",
      "No Tiredness Negative:  135 \t Probability of No Tiredness Negative:  0.23725834797891038\n"
     ]
    }
   ],
   "source": [
    "######Tiredness#######\n",
    "SevereTirednessPositive,SevereTirednessNegative,SlightTirednessPositive,SlightTirednessNegative, NoTirednessPositive,NoTirednessNegative=0,0,0,0,0,0\n",
    "\n",
    "for x in data.index:\n",
    "    if data['Tiredness'][x] =='severe'and data['Covid-19'][x] =='positive':\n",
    "        SevereTirednessPositive += 1\n",
    "        \n",
    "    elif data['Tiredness'][x] =='severe'and data['Covid-19'][x] =='negative':\n",
    "        SevereTirednessNegative += 1\n",
    "        \n",
    "    elif data['Tiredness'][x] =='slight'and data['Covid-19'][x] =='positive':\n",
    "        SlightTirednessPositive += 1\n",
    "        \n",
    "    elif data['Tiredness'][x] =='slight'and data['Covid-19'][x] =='negative':\n",
    "        SlightTirednessNegative += 1\n",
    "        \n",
    "    elif data['Tiredness'][x] =='no'and data['Covid-19'][x] =='positive':\n",
    "        NoTirednessPositive += 1\n",
    "        \n",
    "    elif data['Tiredness'][x] =='no'and data['Covid-19'][x] =='negative':\n",
    "        NoTirednessNegative += 1\n",
    "        \n",
    "ProbabilityOfSevereTirednessPositive = SevereTirednessPositive/ValueOfPositive\n",
    "print('Severe Tiredness Positive: ',SevereTirednessPositive,'\\t','Probability of Severe Tiredness Positive: ',ProbabilityOfSevereTirednessPositive)\n",
    "\n",
    "ProbabilityOfSevereTirednessNegative = SevereTirednessNegative/ValueOfNegative\n",
    "print('Severe Tiredness Negative: ',SevereTirednessNegative,'\\t','Probability of Severe Tiredness Negative: ',ProbabilityOfSevereTirednessNegative)\n",
    "\n",
    "ProbabilityOfSlightTirednessPositive = SlightTirednessPositive/ValueOfPositive\n",
    "print('Slight Tiredness Positive: ',SlightTirednessPositive,'\\t','Probability of Slight Tiredness Positive: ',ProbabilityOfSlightTirednessPositive)\n",
    "\n",
    "ProbabilityOfSlightTirednessNegative = SlightTirednessNegative/ValueOfNegative\n",
    "print('Slight Tiredness Negative: ',SlightTirednessNegative,'\\t','Probability of Slight Tiredness Negative: ',ProbabilityOfSlightTirednessNegative)\n",
    "\n",
    "ProbabilityOfNoTirednessPositive = NoTirednessPositive/ValueOfPositive\n",
    "print('No Tiredness Positive: ',NoTirednessPositive,'\\t','Probability of No Tiredness Positive: ',ProbabilityOfNoTirednessPositive)\n",
    "\n",
    "ProbabilityOfNoTirednessNegative = NoTirednessNegative/ValueOfNegative\n",
    "print('No Tiredness Negative: ',NoTirednessNegative,'\\t','Probability of No Tiredness Negative: ',ProbabilityOfNoTirednessNegative)"
   ]
  },
  {
   "cell_type": "code",
   "execution_count": 5,
   "metadata": {
    "pycharm": {
     "name": "#%%\n"
    },
    "scrolled": false
   },
   "outputs": [
    {
     "name": "stdout",
     "output_type": "stream",
     "text": [
      "Postive on [0-95.0]:  17 \t Probability of Positive on [0-95.0]:  0.03944315545243619\n",
      "Negative on [0-95.0]:  15 \t Probability of Negative on [0-95.0]:  0.026362038664323375\n",
      "Postive on [95.1-98.0]:  31 \t Probability of Positive on [95.1-98.0]:  0.07192575406032482\n",
      "Negative on [95.1-98.0]:  61 \t Probability of Negative [95.1-98.0]:  0.10720562390158173\n",
      "Postive on [98.1-101.0]:  206 \t Probability of Positive on [98.1-101.0]:  0.4779582366589327\n",
      "Negative on [98.1-101.0]:  272 \t Probability of Negative on [98.1-101.0]:  0.4780316344463972\n",
      "Postive on [101.1-104.0]:  158 \t Probability of Positive on [101.1-104.0]:  0.3665893271461717\n",
      "Negative on [101.1-104.0]:  194 \t Probability of Negative on [101.1-104.0]:  0.3409490333919156\n",
      "Postive on [104.1-infinity]:  19 \t Probability of Positive on [104.1-infinity]:  0.04408352668213457\n",
      "Negative on [104.1-infinity]:  27 \t Probability of Negative on [104.1-infinity]:  0.04745166959578207\n"
     ]
    }
   ],
   "source": [
    "######Temperature#######\n",
    "## 1st [0.0-95.0]\n",
    "## 2nd [95.1-98.0]\n",
    "## 3rd [98.1-101.0]\n",
    "## 4th [101.1-104.0]\n",
    "## 5th [104.1-infinity]\n",
    "temp1stPositive,temp1stNegative,ProbabilityOftemp1stPositive,ProbabilityOftemp1stNegative=0,0,0,0\n",
    "temp2ndPositive,temp2ndNegative,ProbabilityOftemp2ndPositive,ProbabilityOftemp2ndNegative=0,0,0,0\n",
    "temp3rdPositive,temp3rdNegative,ProbabilityOftemp3rdPositive,ProbabilityOftemp3rdNegative=0,0,0,0\n",
    "temp4thPositive,temp4thNegative,ProbabilityOftemp4thPositive,ProbabilityOftemp4thNegative=0,0,0,0\n",
    "temp5thPositive,temp5thNegative,ProbabilityOftemp5thPositive,ProbabilityOftemp5thNegative=0,0,0,0\n",
    "for x in data.index:  \n",
    "    if 0.0 <= data['Temperature'][x] <= 95.0:\n",
    "        if data['Covid-19'][x] =='positive':\n",
    "            temp1stPositive += 1\n",
    "        elif data['Covid-19'][x] =='negative':\n",
    "            temp1stNegative += 1\n",
    "    elif 95.0 < data['Temperature'][x] <= 98.0:\n",
    "        if data['Covid-19'][x] =='positive':\n",
    "            temp2ndPositive += 1\n",
    "        elif data['Covid-19'][x] =='negative':\n",
    "            temp2ndNegative += 1\n",
    "    elif 98.0 < data['Temperature'][x] <=  101.0:\n",
    "        if data['Covid-19'][x] =='positive':\n",
    "            temp3rdPositive += 1\n",
    "        elif data['Covid-19'][x] =='negative':\n",
    "            temp3rdNegative += 1\n",
    "    elif 101.0 < data['Temperature'][x] <= 104.0:\n",
    "        if data['Covid-19'][x] =='positive':\n",
    "            temp4thPositive += 1\n",
    "        elif data['Covid-19'][x] =='negative':\n",
    "            temp4thNegative += 1\n",
    "    elif data['Temperature'][x] > 104.0:\n",
    "        if data['Covid-19'][x] =='positive':\n",
    "            temp5thPositive += 1\n",
    "        elif data['Covid-19'][x] =='negative':\n",
    "            temp5thNegative += 1\n",
    "\n",
    "ProbabilityOftemp1stPositive = temp1stPositive/ValueOfPositive\n",
    "print('Postive on [0-95.0]: ',temp1stPositive,'\\t','Probability of Positive on [0-95.0]: ',ProbabilityOftemp1stPositive)\n",
    "\n",
    "ProbabilityOftemp1stNegative = temp1stNegative/ValueOfNegative\n",
    "print('Negative on [0-95.0]: ',temp1stNegative,'\\t','Probability of Negative on [0-95.0]: ',ProbabilityOftemp1stNegative)\n",
    "\n",
    "ProbabilityOftemp2ndPositive = temp2ndPositive/ValueOfPositive\n",
    "print('Postive on [95.1-98.0]: ',temp2ndPositive,'\\t','Probability of Positive on [95.1-98.0]: ',ProbabilityOftemp2ndPositive)\n",
    "\n",
    "ProbabilityOftemp2ndNegative = temp2ndNegative/ValueOfNegative\n",
    "print('Negative on [95.1-98.0]: ',temp2ndNegative,'\\t','Probability of Negative [95.1-98.0]: ',ProbabilityOftemp2ndNegative)\n",
    "\n",
    "ProbabilityOftemp3rdPositive = temp3rdPositive/ValueOfPositive\n",
    "print('Postive on [98.1-101.0]: ',temp3rdPositive,'\\t','Probability of Positive on [98.1-101.0]: ',ProbabilityOftemp3rdPositive)\n",
    "\n",
    "ProbabilityOftemp3rdNegative = temp3rdNegative/ValueOfNegative\n",
    "print('Negative on [98.1-101.0]: ',temp3rdNegative,'\\t','Probability of Negative on [98.1-101.0]: ',ProbabilityOftemp3rdNegative)\n",
    "\n",
    "ProbabilityOftemp4thPositive = temp4thPositive/ValueOfPositive\n",
    "print('Postive on [101.1-104.0]: ',temp4thPositive,'\\t','Probability of Positive on [101.1-104.0]: ',ProbabilityOftemp4thPositive)\n",
    "\n",
    "ProbabilityOftemp4thNegative = temp4thNegative/ValueOfNegative\n",
    "print('Negative on [101.1-104.0]: ',temp4thNegative,'\\t','Probability of Negative on [101.1-104.0]: ',ProbabilityOftemp4thNegative)\n",
    "\n",
    "ProbabilityOftemp5thPositive = temp5thPositive/ValueOfPositive\n",
    "print('Postive on [104.1-infinity]: ',temp5thPositive,'\\t','Probability of Positive on [104.1-infinity]: ',ProbabilityOftemp5thPositive)\n",
    "\n",
    "ProbabilityOftemp5thNegative = temp5thNegative/ValueOfNegative\n",
    "print('Negative on [104.1-infinity]: ',temp5thNegative,'\\t','Probability of Negative on [104.1-infinity]: ',ProbabilityOftemp5thNegative)"
   ]
  },
  {
   "cell_type": "code",
   "execution_count": 6,
   "metadata": {
    "pycharm": {
     "name": "#%%\n"
    }
   },
   "outputs": [
    {
     "name": "stdout",
     "output_type": "stream",
     "text": [
      "Yes Difficulty_breathing Positive 167 \t Probability of Yes Difficulty_breathing Positive 0.3874709976798144\n",
      "No difficulty breathing Postive 264 \t Probability of No Difficulty_breathing Positive 0.6125290023201856\n",
      "Yes Difficulty_breathing Negative 197 \t Probability of Yes Difficulty_breathing Negative 0.3462214411247803\n",
      "No difficulty breathing Negative 372 \t Probability of No Difficulty_breathing Negative 0.6537785588752196\n"
     ]
    }
   ],
   "source": [
    "#Difficulty_breathing\n",
    "YesDifficulty_breathingPositive,NoDifficulty_breathingPositive=0,0\n",
    "YesDifficulty_breathingNegative,NoDifficulty_breathingNegative=0,0\n",
    "\n",
    "for x in data.index:\n",
    "    if data['Difficulty_breathing'][x]=='yes' and data['Covid-19'][x] =='positive':\n",
    "        YesDifficulty_breathingPositive+=1\n",
    "    elif data['Difficulty_breathing'][x]=='no' and data['Covid-19'][x] =='positive':\n",
    "        NoDifficulty_breathingPositive+=1\n",
    "    elif data['Difficulty_breathing'][x]=='yes' and data['Covid-19'][x] =='negative':\n",
    "        YesDifficulty_breathingNegative+=1\n",
    "    elif data['Difficulty_breathing'][x]=='no' and data['Covid-19'][x] =='negative':\n",
    "        NoDifficulty_breathingNegative+=1\n",
    "        \n",
    "ProbabilityOfYesDifficulty_breathingPositive = YesDifficulty_breathingPositive/ValueOfPositive\n",
    "print('Yes Difficulty_breathing Positive',YesDifficulty_breathingPositive,'\\t',\n",
    "      'Probability of Yes Difficulty_breathing Positive',ProbabilityOfYesDifficulty_breathingPositive)\n",
    "\n",
    "ProbabilityOfNoDifficulty_breathingPositive=NoDifficulty_breathingPositive/ValueOfPositive\n",
    "print('No difficulty breathing Postive',NoDifficulty_breathingPositive,'\\t',\n",
    "      'Probability of No Difficulty_breathing Positive',ProbabilityOfNoDifficulty_breathingPositive)\n",
    "\n",
    "ProbabilityOfYesDifficulty_breathingNegative = YesDifficulty_breathingNegative/ValueOfNegative\n",
    "print('Yes Difficulty_breathing Negative',YesDifficulty_breathingNegative,'\\t',\n",
    "      'Probability of Yes Difficulty_breathing Negative',ProbabilityOfYesDifficulty_breathingNegative)\n",
    "\n",
    "ProbabilityOfNoDifficulty_breathingNegative=NoDifficulty_breathingNegative/ValueOfNegative\n",
    "print('No difficulty breathing Negative',NoDifficulty_breathingNegative,'\\t',\n",
    "      'Probability of No Difficulty_breathing Negative',ProbabilityOfNoDifficulty_breathingNegative)"
   ]
  },
  {
   "cell_type": "code",
   "execution_count": 7,
   "metadata": {
    "pycharm": {
     "name": "#%%\n"
    }
   },
   "outputs": [
    {
     "name": "stdout",
     "output_type": "stream",
     "text": [
      "Yes Loss_of_taste_or_smell Positive 263 \t Probability of Yes Loss_of_taste_or_smell Positive 0.6102088167053364\n",
      "No Loss_of_taste_or_smell Postive 168 \t Probability of No Loss_of_taste_or_smell Positive 0.38979118329466356\n",
      "Yes Loss_of_taste_or_smell Negative 331 \t Probability of Yes Loss_of_taste_or_smell Negative 0.5817223198594025\n",
      "No Loss_of_taste_or_smell Negative 238 \t Probability of No Loss_of_taste_or_smell Negative 0.4182776801405975\n"
     ]
    }
   ],
   "source": [
    "########### Loss_of_taste_or_smell##############\n",
    "YesLoss_of_taste_or_smellPositive,NoLoss_of_taste_or_smellPositive=0,0\n",
    "YesLoss_of_taste_or_smellNegative,NoLoss_of_taste_or_smellNegative=0,0\n",
    "\n",
    "for x in data.index:\n",
    "    if data['Loss_of_taste_or_smell'][x]=='yes' and data['Covid-19'][x] =='positive':\n",
    "        YesLoss_of_taste_or_smellPositive+=1\n",
    "    elif data['Loss_of_taste_or_smell'][x]=='no' and data['Covid-19'][x] =='positive':\n",
    "        NoLoss_of_taste_or_smellPositive+=1\n",
    "    elif data['Loss_of_taste_or_smell'][x]=='yes' and data['Covid-19'][x] =='negative':\n",
    "        YesLoss_of_taste_or_smellNegative+=1\n",
    "    elif data['Loss_of_taste_or_smell'][x]=='no' and data['Covid-19'][x] =='negative':\n",
    "        NoLoss_of_taste_or_smellNegative+=1\n",
    "\n",
    "\n",
    "ProbabilityOfYesLoss_of_taste_or_smellPositive = YesLoss_of_taste_or_smellPositive/ValueOfPositive\n",
    "print('Yes Loss_of_taste_or_smell Positive',YesLoss_of_taste_or_smellPositive,'\\t',\n",
    "      'Probability of Yes Loss_of_taste_or_smell Positive',ProbabilityOfYesLoss_of_taste_or_smellPositive)\n",
    "\n",
    "ProbabilityOfNoLoss_of_taste_or_smellPositive=NoLoss_of_taste_or_smellPositive/ValueOfPositive\n",
    "print('No Loss_of_taste_or_smell Postive',NoLoss_of_taste_or_smellPositive,'\\t',\n",
    "      'Probability of No Loss_of_taste_or_smell Positive',ProbabilityOfNoLoss_of_taste_or_smellPositive)\n",
    "\n",
    "ProbabilityOfYesLoss_of_taste_or_smellNegative = YesLoss_of_taste_or_smellNegative/ValueOfNegative\n",
    "print('Yes Loss_of_taste_or_smell Negative',YesLoss_of_taste_or_smellNegative,'\\t',\n",
    "      'Probability of Yes Loss_of_taste_or_smell Negative',ProbabilityOfYesLoss_of_taste_or_smellNegative)\n",
    "\n",
    "ProbabilityOfNoLoss_of_taste_or_smellNegative=NoLoss_of_taste_or_smellNegative/ValueOfNegative\n",
    "print('No Loss_of_taste_or_smell Negative',NoLoss_of_taste_or_smellNegative,'\\t',\n",
    "      'Probability of No Loss_of_taste_or_smell Negative',ProbabilityOfNoLoss_of_taste_or_smellNegative)\n"
   ]
  },
  {
   "cell_type": "code",
   "execution_count": 8,
   "metadata": {
    "pycharm": {
     "name": "#%%\n"
    }
   },
   "outputs": [
    {
     "name": "stdout",
     "output_type": "stream",
     "text": [
      "Yes Sore_throat Positive 161 \t Probability of Yes Sore_throat Positive 0.37354988399071926\n",
      "No Sore_throat Postive 270 \t Probability of No Sore_throat Positive 0.6264501160092807\n",
      "Yes Sore_throat Negative 212 \t Probability of Yes Sore_throat Negative 0.37258347978910367\n",
      "No Sore_throat Negative 357 \t Probability of No Sore_throat Negative 0.6274165202108963\n"
     ]
    }
   ],
   "source": [
    "# Sore_throat\n",
    "\n",
    "YesSore_throatPositive,NoSore_throatPositive=0,0\n",
    "YesSore_throatNegative,NoSore_throatNegative=0,0\n",
    "\n",
    "for x in data.index:\n",
    "    if data['Sore_throat'][x]=='yes' and data['Covid-19'][x] =='positive':\n",
    "        YesSore_throatPositive+=1\n",
    "    elif data['Sore_throat'][x]=='no' and data['Covid-19'][x] =='positive':\n",
    "        NoSore_throatPositive+=1\n",
    "    elif data['Sore_throat'][x]=='yes' and data['Covid-19'][x] =='negative':\n",
    "        YesSore_throatNegative+=1\n",
    "    elif data['Sore_throat'][x]=='no' and data['Covid-19'][x] =='negative':\n",
    "        NoSore_throatNegative+=1\n",
    "        \n",
    "ProbabilityOfYesSore_throatPositive = YesSore_throatPositive/ValueOfPositive\n",
    "print('Yes Sore_throat Positive',YesSore_throatPositive,'\\t',\n",
    "      'Probability of Yes Sore_throat Positive',ProbabilityOfYesSore_throatPositive)\n",
    "\n",
    "ProbabilityOfNoSore_throatPositive=NoSore_throatPositive/ValueOfPositive\n",
    "print('No Sore_throat Postive',NoSore_throatPositive,'\\t',\n",
    "      'Probability of No Sore_throat Positive',ProbabilityOfNoSore_throatPositive)\n",
    "\n",
    "ProbabilityOfYesSore_throatNegative = YesSore_throatNegative/ValueOfNegative\n",
    "print('Yes Sore_throat Negative',YesSore_throatNegative,'\\t',\n",
    "      'Probability of Yes Sore_throat Negative',ProbabilityOfYesSore_throatNegative)\n",
    "\n",
    "ProbabilityOfNoSore_throatNegative=NoSore_throatNegative/ValueOfNegative\n",
    "print('No Sore_throat Negative',NoSore_throatNegative,'\\t',\n",
    "      'Probability of No Sore_throat Negative',ProbabilityOfNoSore_throatNegative)\n",
    "\n"
   ]
  },
  {
   "cell_type": "code",
   "execution_count": 9,
   "metadata": {
    "pycharm": {
     "name": "#%%\n"
    }
   },
   "outputs": [],
   "source": [
    "######global value##########\n",
    "PtempPositive,PtempNegative=0.0,0.0\n",
    "PCoughtPositive,PCoughtNegative = 0.0,0.0\n",
    "PTirednessPositive,PTirednessNegative = 0.0,0.0\n",
    "PbreathingPostive,PbreathingNegative=0.0,0.0\n",
    "PLosstasteSmellPositive,PLosstasteSmellNegative= 0.0,0.0\n",
    "PSorePositive ,PSoreNegative = 0.0,0.0\n"
   ]
  },
  {
   "cell_type": "code",
   "execution_count": 10,
   "metadata": {
    "pycharm": {
     "name": "#%%\n"
    }
   },
   "outputs": [],
   "source": [
    "def temperature():\n",
    "    global PtempPositive,PtempNegative\n",
    "\n",
    "    # tempareture 1st phase [0-95.0]\n",
    "    if 0.0 <= Temperature <= 95.0:\n",
    "        PtempPositive=ProbabilityOftemp1stPositive\n",
    "        PtempNegative=ProbabilityOftemp1stNegative\n",
    "        cough()\n",
    "    # tempareture 2nd phase [95.1-98]\n",
    "    elif 95.0 < Temperature<=98.0:\n",
    "        PtempPositive=ProbabilityOftemp2ndPositive\n",
    "        PtempNegative=ProbabilityOftemp2ndNegative\n",
    "        cough()\n",
    "    # tempareture 3rd phase [98.1-101.0]\n",
    "    elif 98.0 < Temperature<=101.0:\n",
    "        PtempPositive=ProbabilityOftemp3rdPositive\n",
    "        PtempNegative=ProbabilityOftemp3rdNegative\n",
    "        cough()\n",
    "    # tempareture 4th phase [101.1-104]\n",
    "    elif 101.0 < Temperature <= 104.0:\n",
    "        PtempPositive=ProbabilityOftemp4thPositive\n",
    "        PtempNegative=ProbabilityOftemp4thNegative\n",
    "        cough()\n",
    "    # tempareture 5th phase [104.1-infinity]\n",
    "    elif Temperature > 104.0 :\n",
    "        PtempPositive=ProbabilityOftemp5thPositive\n",
    "        PtempNegative=ProbabilityOftemp5thNegative\n",
    "        cough()\n",
    "\n",
    "    print(Temperature,'p ',PtempPositive,'n ',PtempNegative )"
   ]
  },
  {
   "cell_type": "code",
   "execution_count": 11,
   "metadata": {
    "pycharm": {
     "name": "#%%\n"
    }
   },
   "outputs": [],
   "source": [
    "def cough():\n",
    "    global PCoughtNegative,PCoughtPositive\n",
    "    if Cough.lower()=='dry':\n",
    "        PCoughtPositive=ProbabilityOfdryCoughPositive\n",
    "        PCoughtNegative=ProbabilityOfdryCoughNegative\n",
    "        tiredness()\n",
    "    elif Cough.lower()=='wet':\n",
    "        PCoughtPositive=ProbabilityOfwetCoughPositive\n",
    "        PCoughtNegative=ProbabilityOfwetCoughNegative\n",
    "        tiredness()\n",
    "    elif Cough.lower()=='no':\n",
    "        PCoughtPositive=ProbabilityOfNoCoughPositive\n",
    "        PCoughtNegative=ProbabilityOfNoCoughNegative\n",
    "        tiredness()\n",
    "\n",
    "    print(Cough,'p ',PCoughtPositive,'n ',PCoughtNegative)"
   ]
  },
  {
   "cell_type": "code",
   "execution_count": 12,
   "metadata": {
    "pycharm": {
     "name": "#%%\n"
    }
   },
   "outputs": [],
   "source": [
    "def tiredness():\n",
    "    global PTirednessPositive,PTirednessNegative\n",
    "\n",
    "    if Tiredness.lower()=='severe':\n",
    "        PTirednessPositive=ProbabilityOfSevereTirednessPositive\n",
    "        PTirednessNegative=ProbabilityOfSevereTirednessNegative\n",
    "        diffbreath()\n",
    "    elif Tiredness.lower()=='slight':\n",
    "        PTirednessPositive=ProbabilityOfSlightTirednessPositive\n",
    "        PTirednessNegative=ProbabilityOfSlightTirednessNegative\n",
    "        diffbreath()\n",
    "    elif Tiredness.lower()=='no':\n",
    "        PTirednessPositive=ProbabilityOfNoTirednessPositive\n",
    "        PTirednessNegative=ProbabilityOfNoTirednessNegative\n",
    "        diffbreath()\n",
    "\n",
    "    print(Tiredness,'p ', PTirednessPositive,'n ',PTirednessNegative)\n"
   ]
  },
  {
   "cell_type": "code",
   "execution_count": 13,
   "metadata": {
    "pycharm": {
     "name": "#%%\n"
    }
   },
   "outputs": [],
   "source": [
    "def diffbreath():\n",
    "    global PbreathingPostive,PbreathingNegative\n",
    "\n",
    "    if Difficulty_breathing.lower()=='yes':\n",
    "        PbreathingPostive=ProbabilityOfYesDifficulty_breathingPositive\n",
    "        PbreathingNegative=ProbabilityOfYesDifficulty_breathingNegative\n",
    "        lossTasteSmell()\n",
    "    elif Difficulty_breathing.lower()=='no':\n",
    "        PbreathingPostive=ProbabilityOfNoDifficulty_breathingPositive\n",
    "        PbreathingNegative=ProbabilityOfNoDifficulty_breathingNegative\n",
    "        lossTasteSmell()\n",
    "\n",
    "    print(Difficulty_breathing,'p ',PbreathingPostive,'n ',PbreathingNegative)"
   ]
  },
  {
   "cell_type": "code",
   "execution_count": 14,
   "metadata": {
    "pycharm": {
     "name": "#%%\n"
    }
   },
   "outputs": [],
   "source": [
    "def lossTasteSmell():\n",
    "    global PLosstasteSmellNegative,PLosstasteSmellPositive\n",
    "    if Loss_of_taste_or_smell.lower()=='yes':\n",
    "        PLosstasteSmellPositive=ProbabilityOfYesLoss_of_taste_or_smellPositive\n",
    "        PLosstasteSmellNegative=ProbabilityOfYesLoss_of_taste_or_smellNegative\n",
    "        sorethroat()\n",
    "    elif Loss_of_taste_or_smell.lower()=='no':\n",
    "        PLosstasteSmellPositive=ProbabilityOfNoLoss_of_taste_or_smellPositive\n",
    "        PLosstasteSmellNegative=ProbabilityOfNoLoss_of_taste_or_smellNegative\n",
    "        sorethroat()\n",
    "\n",
    "    print(Loss_of_taste_or_smell,'p ',PLosstasteSmellPositive,'n ',PLosstasteSmellNegative)"
   ]
  },
  {
   "cell_type": "code",
   "execution_count": 15,
   "metadata": {
    "pycharm": {
     "name": "#%%\n"
    }
   },
   "outputs": [],
   "source": [
    "def sorethroat():\n",
    "    global PSorePositive,PSoreNegative\n",
    "    if Sore_throat.lower()=='yes':\n",
    "        PSorePositive=ProbabilityOfYesSore_throatPositive\n",
    "        PSoreNegative=ProbabilityOfYesSore_throatNegative\n",
    "    elif Sore_throat.lower()=='no':\n",
    "        PSorePositive=ProbabilityOfNoSore_throatPositive\n",
    "        PSoreNegative=ProbabilityOfNoSore_throatNegative\n",
    "\n",
    "    print(Sore_throat,'p',PSorePositive,'n ',PSoreNegative)"
   ]
  },
  {
   "cell_type": "code",
   "execution_count": 16,
   "metadata": {
    "pycharm": {
     "name": "#%%\n"
    }
   },
   "outputs": [],
   "source": [
    "\n",
    "def final():\n",
    "\n",
    "    temperature()\n",
    "    # global PtempPositive , PCoughtPositive , PTirednessPositive , PbreathingPostive , PLosstasteSmellPositive , PSorePositive\n",
    "    # print(PtempPositive , PCoughtPositive , PTirednessPositive , PbreathingPostive , PLosstasteSmellPositive , PSorePositive)\n",
    "    # print('\\n')\n",
    "    # print(PtempNegative , PCoughtNegative , PTirednessNegative , PbreathingNegative , PLosstasteSmellNegative , PSoreNegative)\n",
    "    #find the Probability of every class attribute(positive,negative)\n",
    "    toupleProbabilityPositive = PtempPositive * PCoughtPositive * PTirednessPositive * PbreathingPostive * PLosstasteSmellPositive * PSorePositive\n",
    "\n",
    "    toupleProbabilityNegative =  PtempNegative * PCoughtNegative * PTirednessNegative * PbreathingNegative * PLosstasteSmellNegative * PSoreNegative\n",
    "\n",
    "    #likelyhood\n",
    "\n",
    "    likelyhoodPositive = toupleProbabilityPositive * ProbabilityOfPositive\n",
    "\n",
    "    likelyhoodNegative = toupleProbabilityNegative * ProbabilityOfNegative\n",
    "\n",
    "    estimate = likelyhoodPositive + likelyhoodNegative\n",
    "\n",
    "    #actualProbability\n",
    "    if estimate==0:\n",
    "        print('\\nsorry!prediction error.estimate come to 0')\n",
    "    else:\n",
    "        ActualProbabilityofPostive = likelyhoodPositive/estimate\n",
    "        ActualProbabilityofNegative = likelyhoodNegative/estimate\n",
    "        print('Actual Probability of Postive: ',ActualProbabilityofPostive,'Actual Probability of Negative: ',ActualProbabilityofNegative)\n",
    "        \n",
    "        \n",
    "        if ActualProbabilityofPostive>ActualProbabilityofNegative:\n",
    "            print('Covid-19: Positive')\n",
    "        elif ActualProbabilityofPostive < ActualProbabilityofNegative:\n",
    "            print('Covid-19: Negative')"
   ]
  },
  {
   "cell_type": "code",
   "execution_count": 17,
   "metadata": {
    "pycharm": {
     "name": "#%%\n"
    }
   },
   "outputs": [
    {
     "name": "stdout",
     "output_type": "stream",
     "text": [
      "Temperature: 98\n",
      "Cought status('dry','wet','no'): wet\n",
      "Tiredness status('severe','slight','no'): severe\n",
      "Difficulty Breathing status('yes','no'): no\n",
      "Loss of taste or smell status('yes','no'): no\n",
      "Score throat status('yes','no'): no\n",
      "no p 0.6264501160092807 n  0.6274165202108963\n",
      "no p  0.38979118329466356 n  0.4182776801405975\n",
      "no p  0.6125290023201856 n  0.6537785588752196\n",
      "severe p  0.39675174013921116 n  0.3181019332161687\n",
      "wet p  0.16705336426914152 n  0.22847100175746923\n",
      "98.0 p  0.07192575406032482 n  0.10720562390158173\n",
      "Actual Probability of Postive:  0.2877592047628086 Actual Probability of Negative:  0.7122407952371914\n",
      "Covid-19: Negative\n"
     ]
    }
   ],
   "source": [
    "Temperature = float(input('Temperature: '))\n",
    "Cough=input(\"Cought status('dry','wet','no'): \")\n",
    "Tiredness=input(\"Tiredness status('severe','slight','no'): \")\n",
    "Difficulty_breathing=input(\"Difficulty Breathing status('yes','no'): \")\n",
    "Loss_of_taste_or_smell=input(\"Loss of taste or smell status('yes','no'): \")\n",
    "Sore_throat=input(\"Score throat status('yes','no'): \")\n",
    "final()\n",
    " "
   ]
  }
 ],
 "metadata": {
  "kernelspec": {
   "display_name": "Python 3",
   "language": "python",
   "name": "python3"
  },
  "language_info": {
   "codemirror_mode": {
    "name": "ipython",
    "version": 3
   },
   "file_extension": ".py",
   "mimetype": "text/x-python",
   "name": "python",
   "nbconvert_exporter": "python",
   "pygments_lexer": "ipython3",
   "version": "3.7.9"
  }
 },
 "nbformat": 4,
 "nbformat_minor": 1
}